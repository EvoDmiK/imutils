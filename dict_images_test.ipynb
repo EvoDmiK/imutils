{
 "cells": [
  {
   "cell_type": "code",
   "execution_count": 1,
   "id": "b619c7aa-ede7-4068-985d-11d91c59fed6",
   "metadata": {},
   "outputs": [],
   "source": [
    "import random as rand\n",
    "import os\n",
    "\n",
    "from imutils import paths"
   ]
  },
  {
   "cell_type": "code",
   "execution_count": 2,
   "id": "f2d85545-0b1a-4217-a8aa-cf301256e789",
   "metadata": {},
   "outputs": [],
   "source": [
    "SEP = os.path.sep\n",
    "ROOT_PATH = SEP.join(os.getcwd().split(SEP)[:-3])\n",
    "DATA_PATH = f'{ROOT_PATH}/DataSets/InpGAN'"
   ]
  },
  {
   "cell_type": "code",
   "execution_count": 3,
   "id": "af071c27-7a61-4ed5-bbb5-e23c51aa86ec",
   "metadata": {},
   "outputs": [
    {
     "name": "stdout",
     "output_type": "stream",
     "text": [
      "3.07 s ± 36 ms per loop (mean ± std. dev. of 7 runs, 1 loop each)\n"
     ]
    }
   ],
   "source": [
    "%%timeit\n",
    "sorted(paths.list_images(DATA_PATH))"
   ]
  },
  {
   "cell_type": "code",
   "execution_count": 4,
   "id": "e82b8239-12f4-4254-844d-94e6bc901448",
   "metadata": {},
   "outputs": [
    {
     "name": "stdout",
     "output_type": "stream",
     "text": [
      "2.94 s ± 30.8 ms per loop (mean ± std. dev. of 7 runs, 1 loop each)\n"
     ]
    }
   ],
   "source": [
    "%%timeit\n",
    "paths.dict_images(DATA_PATH)"
   ]
  },
  {
   "cell_type": "code",
   "execution_count": 5,
   "id": "4461d356-fafe-4a8d-ac5e-cdc807c9b70f",
   "metadata": {},
   "outputs": [],
   "source": [
    "path_list = sorted(paths.list_images(DATA_PATH))\n",
    "path_dict = paths.dict_images(DATA_PATH)"
   ]
  },
  {
   "cell_type": "code",
   "execution_count": 6,
   "id": "dcb27e5d-c5d3-4962-ba38-158fbcff0bde",
   "metadata": {},
   "outputs": [
    {
     "name": "stdout",
     "output_type": "stream",
     "text": [
      "96.1 µs ± 2.73 µs per loop (mean ± std. dev. of 7 runs, 10,000 loops each)\n"
     ]
    }
   ],
   "source": [
    "%%timeit\n",
    "for _ in range(100):\n",
    "    \n",
    "    idx = rand.randint(0, len(path_list) - 1)\n",
    "    path_list[idx]"
   ]
  },
  {
   "cell_type": "code",
   "execution_count": 7,
   "id": "fb59a213-6cf0-4167-a8fc-cc7e3d4729ad",
   "metadata": {},
   "outputs": [
    {
     "name": "stdout",
     "output_type": "stream",
     "text": [
      "114 µs ± 2.85 µs per loop (mean ± std. dev. of 7 runs, 10,000 loops each)\n"
     ]
    }
   ],
   "source": [
    "%%timeit\n",
    "for _ in range(100):\n",
    "    \n",
    "    idx = rand.randint(0, len(path_dict) - 1)\n",
    "    path_dict[idx]"
   ]
  },
  {
   "cell_type": "code",
   "execution_count": null,
   "id": "7f3500b6-1552-4af2-b525-e0f2f2d7b534",
   "metadata": {},
   "outputs": [],
   "source": []
  }
 ],
 "metadata": {
  "kernelspec": {
   "display_name": "Python 3 (ipykernel)",
   "language": "python",
   "name": "python3"
  },
  "language_info": {
   "codemirror_mode": {
    "name": "ipython",
    "version": 3
   },
   "file_extension": ".py",
   "mimetype": "text/x-python",
   "name": "python",
   "nbconvert_exporter": "python",
   "pygments_lexer": "ipython3",
   "version": "3.9.10"
  }
 },
 "nbformat": 4,
 "nbformat_minor": 5
}
